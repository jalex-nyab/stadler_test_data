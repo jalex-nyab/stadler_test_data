{
 "cells": [
  {
   "cell_type": "markdown",
   "metadata": {},
   "source": [
    "#### Config"
   ]
  },
  {
   "cell_type": "code",
   "execution_count": 7,
   "metadata": {},
   "outputs": [],
   "source": [
    "# INPUTS\n",
    "FILE_NAME = 'test.csv'\n",
    "\n",
    "# Define a custom date string\n",
    "custom_date_str = '2024-03-22'\n",
    "\n",
    "# CONFIGURATIONS\n",
    "MAX_ROW_TO_SHOW = None  # None  - Display all rows in DataSet \n",
    "                        # 0     - Display default value\n",
    "                        # int   - Any positive integer number (N) will display N/2 top rows and N/2 bottom rows \n",
    "columns = ['B_COMP1_MAN_INH', 'B_COMP1_RQ', 'B_COMP1_RUN', 'B_COMP2_MAN_INH', 'B_COMP2_RQ', 'B_COMP2_RUN', 'B_COMP1_ENABLE', 'B_COMP2_ENABLE', 'B_COMP_ENABLE', 'VC_B_SETB_BLEND_ACT', 'VC_B_SETB_BLEND_AV', 'VC_R_AIR_FLOW', 'VC_R_BC_PRES', 'VC_R_BP_PRES', 'VC_R_EQU_RES_PRES', 'VC_R_MR_PRES', 'VC_Y_AUTO_BC_CMPRES', 'VC_Y_INDEP_BC_CMPRES', 'VC_Y_SETB_BLEND_FBK', 'R_AUTO_BRAKE_RQ', 'K4.VC_R_MR_PRES', 'VC_R_EBOG_LIM', 'VC_R_EBOG_PERF', 'VC_R_MC1EFF', 'VC_R_MC2EFF', 'VC_R_MC3EFF', 'VC_R_EBOG_LIM', 'VC_R_EBOG_PERF', 'VC_R_MC1EFF', 'VC_R_MC2EFF', 'VC_R_MC3EFF', 'BC_B_SETB_BLEND_RQ', 'BC_Y_BC_BLEND_SETB_RQ', 'B_EDBRK_ENA', 'R_BBEFFREQ', 'B_EDBRK_ENA', 'R_BBEFFREQ', 'KS3_VC_B_2COMP2_7', 'KS3_VC_B_2COMP4_2', 'KS3_VC_B_2COMPCTFK', 'KS3_VC_B_2COMPTEMP', 'KS3_VC_B_COMP2_7', 'KS3_VC_B_COMP4_2', 'KS3_VC_B_COMPCTFK', 'KS3_VC_B_COMPTEMP', 'VC_KS3_B_2COMPCTRL', 'VC_KS3_B_COMPCTRL', 'R_K4_BC1PRESR_LOCSPD_VALUE', 'R_K4_BC2PRES_VALUE', 'M_PRO_BB_TE_1.R_LOCSPD', 'R_LOCSPD']"
   ]
  },
  {
   "cell_type": "markdown",
   "metadata": {},
   "source": []
  },
  {
   "cell_type": "markdown",
   "metadata": {},
   "source": [
    "##### Imports & Options"
   ]
  },
  {
   "cell_type": "code",
   "execution_count": 2,
   "metadata": {},
   "outputs": [],
   "source": [
    "# Imports & dependencies \n",
    "import re\n",
    "import csv\n",
    "import pandas as pd\n",
    "import panel as pn\n",
    "import hvplot.pandas\n",
    "import holoviews as hv\n",
    "\n",
    "# OPTIONS\n",
    "pd.set_option('display.max_rows', MAX_ROW_TO_SHOW)"
   ]
  },
  {
   "cell_type": "markdown",
   "metadata": {},
   "source": [
    "##### Formating Data"
   ]
  },
  {
   "cell_type": "code",
   "execution_count": 3,
   "metadata": {},
   "outputs": [],
   "source": [
    "df = pd.read_csv(FILE_NAME)\n",
    "df.drop(df.columns[[0, 1, 2, -1]], axis=1, inplace=True)\n",
    "# Convert the custom date string to a Pandas DateTime object\n",
    "custom_date = pd.to_datetime(custom_date_str)\n",
    "\n",
    "df['Time'] = df['Time'].apply(lambda x: pd.to_datetime(x, format='%H:%M:%S:%f').replace(year=custom_date.year, month=custom_date.month, day=custom_date.day))"
   ]
  },
  {
   "cell_type": "markdown",
   "metadata": {},
   "source": [
    "### Test Runs\n",
    "\n",
    "Find attached the test we spoke about in the meeting:\n",
    "\n",
    "- 12:17:36 -> EMER Handle A, Cab A active, tank in Cab A\n",
    "- 12:19:29 -> EMER Handle B, Cab A active, tank in A -> It does not fully vent BP (the final venting after the pressure gets stable is done by the other handle put in EMER in order to release brakes).\n",
    "- 12:28:41 -> EMER Handle B, Cab B active, tank in A\n",
    "- 12:30:45 -> EMER Handle A, Cab B active, tank in A\n",
    "- 12:38:05 -> EMER Handle B, Cab B active, tank in B\n",
    "- 12:40:44 -> EMER Handle A, Cab B active, tank in B\n",
    "- 12:45:08 -> EMER Handle A, Cab A active, tank in B -> It does not fully vent BP (the final venting after the pressure gets stable is done by the other handle put in EMER in order to release brakes).\n",
    "\n",
    "As for the vent valves activation, when triggered from cab B with active cab or always with cab A the EBV and the panel vent valves are working.\n",
    "When triggered from cab B and the cab is not active only EBV B is venting.\n",
    "In no scenario, the type #8 valves are venting."
   ]
  },
  {
   "cell_type": "markdown",
   "metadata": {},
   "source": [
    "#### Display Data"
   ]
  },
  {
   "cell_type": "markdown",
   "metadata": {},
   "source": [
    "##### code"
   ]
  },
  {
   "cell_type": "code",
   "execution_count": 50,
   "metadata": {},
   "outputs": [],
   "source": [
    "plot = df.hvplot.line(groupby=['Time.hour', 'Time.minute'], widget_type='scrubber', widget_location='bottom', x='Time', y = ['VC_R_AIR_FLOW', 'VC_R_MR_PRES', 'VC_R_EQU_RES_PRES', 'VC_R_BP_PRES', 'VC_R_BC_PRES', 'VC_Y_AUTO_BC_CMPRES', 'VC_Y_INDEP_BC_CMPRES'],\n",
    "                                          height=500, width=1000, color = ['blue', 'red', 'green', 'orange', 'pink', 'purple', 'yellow'],\n",
    "                                          grid=True)\n",
    "\n"
   ]
  },
  {
   "cell_type": "markdown",
   "metadata": {},
   "source": [
    "##### Historian Graphics"
   ]
  },
  {
   "cell_type": "code",
   "execution_count": 52,
   "metadata": {},
   "outputs": [
    {
     "data": {
      "application/vnd.jupyter.widget-view+json": {
       "model_id": "1b78d4d8a21f46dba48bc76182b4331b",
       "version_major": 2,
       "version_minor": 0
      },
      "text/plain": [
       "BokehModel(combine_events=True, render_bundle={'docs_json': {'fa4adff5-ff02-4df1-9d90-512bcd30e6db': {'version…"
      ]
     },
     "execution_count": 52,
     "metadata": {},
     "output_type": "execute_result"
    }
   ],
   "source": [
    "plot"
   ]
  }
 ],
 "metadata": {
  "kernelspec": {
   "display_name": "Python 3",
   "language": "python",
   "name": "python3"
  },
  "language_info": {
   "codemirror_mode": {
    "name": "ipython",
    "version": 3
   },
   "file_extension": ".py",
   "mimetype": "text/x-python",
   "name": "python",
   "nbconvert_exporter": "python",
   "pygments_lexer": "ipython3",
   "version": "3.10.14"
  }
 },
 "nbformat": 4,
 "nbformat_minor": 2
}
